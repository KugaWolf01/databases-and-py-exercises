{
    "metadata": {
        "kernelspec": {
            "name": "python3",
            "display_name": "Python 3",
            "language": "python"
        },
        "language_info": {
            "name": "python",
            "version": "3.8.8",
            "mimetype": "text/x-python",
            "codemirror_mode": {
                "name": "ipython",
                "version": 3
            },
            "pygments_lexer": "ipython3",
            "nbconvert_exporter": "python",
            "file_extension": ".py"
        }
    },
    "nbformat_minor": 2,
    "nbformat": 4,
    "cells": [
        {
            "cell_type": "markdown",
            "source": [
                "# Exercises: Working with Databases in Python\n",
                "\n",
                "For the exercises, we will be practicing the steps outlined in this [article](https://towardsdatascience.com/do-you-know-python-has-a-built-in-database-d553989c87bd). You can skip the portion where the author downloads a separate SQL client to examine the database. "
            ],
            "metadata": {
                "azdata_cell_guid": "d7b89799-a102-479f-87b7-f2759ff1962e"
            },
            "attachments": {}
        },
        {
            "cell_type": "markdown",
            "source": [
                "## Import Libraries\n",
                "\n",
                "We will need `pandas` and `sqlite3`. SQLite is a small, self-contained database engine that comes with Python so you will not have to do any additional installations for this lesson. If you want to connect to a different database engine, such as SQL server, you may need additional libraries such as `sqlalchemy` or `pyodbc` and a tool called a driver which helps to connect a database to an application.\n",
                ""
            ],
            "metadata": {
                "azdata_cell_guid": "89a0b6d9-821d-44f5-9795-9519809b9108"
            },
            "attachments": {}
        },
        {
            "cell_type": "code",
            "source": [
                "# Import sqlite3 and pandas.\n",
                "import sqlite3\n",
                "import pandas as pd"
            ],
            "metadata": {
                "azdata_cell_guid": "865655b0-22e9-47f4-a5df-4bfe97dda4a3",
                "tags": [],
                "language": "python"
            },
            "outputs": [],
            "execution_count": 15
        },
        {
            "cell_type": "markdown",
            "source": [
                "## Create a Database\n",
                "\n",
                "In the article, the author shows how to use `sqlite3` to open a connection to an existing database or create a new one. Use this method to make a new database called `exercises.db`."
            ],
            "metadata": {
                "azdata_cell_guid": "be8436e2-68be-47f8-9fc9-06c235a6a128"
            }
        },
        {
            "cell_type": "code",
            "source": [
                "# Create a new database called exercises.db.\n",
                "conn = sqlite3.connect('exercises.db')"
            ],
            "metadata": {
                "azdata_cell_guid": "707abc33-c6ee-416e-9358-c799f1fcbb12",
                "language": "python"
            },
            "outputs": [],
            "execution_count": 16
        },
        {
            "cell_type": "markdown",
            "source": [
                "## Create a Table\n",
                "\n",
                "Follow the steps in the article to create a table called `favorite_books.db`. This table should include columns for the title, author, and a short description of why it is a favorite."
            ],
            "metadata": {
                "azdata_cell_guid": "dc9df060-ddc9-4573-bd74-3c97323f85a7"
            },
            "attachments": {}
        },
        {
            "cell_type": "code",
            "source": [
                "# Create a new table in your database.\n",
                "conn.execute('''CREATE TABLE exercises.dbo.favorite_books\n",
                "         (ID INT PRIMARY KEY     NOT NULL,\n",
                "         Title           TEXT    NOT NULL,\n",
                "         Author            TEXT     NOT NULL,\n",
                "         Description        TEXT);''')\n",
                "print \"Table created successfully\";\n",
                ""
            ],
            "metadata": {
                "azdata_cell_guid": "3cc6b80e-3fa2-4d2e-b2a9-1ea5d68ba01e",
                "language": "python"
            },
            "outputs": [],
            "execution_count": 17
        },
        {
            "cell_type": "markdown",
            "source": [
                "## Insert Records\n",
                "\n",
                "Add 3 entries to your table for your top 3 favorite books."
            ],
            "metadata": {
                "azdata_cell_guid": "e9acec60-1485-45c8-9f12-997f959d44cc"
            }
        },
        {
            "cell_type": "code",
            "source": [
                "# Add your 3 favorite books to your table.\n",
                "conn.execute(\"INSERT INTO exercises.dbo.favorite_books (Title,Author,Description) \\\n",
                "      VALUES (1, 'A Wrinkle in Time', 'Madeleine L'Engle', 'Iconic fantasy about found family, healing, resisting the call of the Void, and space-time')\");\n",
                "\n",
                "conn.execute(\"INSERT INTO exercises.dbo.favorite_books (Title,Author,Description) \\\n",
                "      VALUES (2, 'Anathem', Neal Stephenson, 'speculative-fiction about a world that could be ours, but isn't quite, tackling cycles of civilization, love, death, world-changing events that are also galactic in scope, and what one person can do - with the right people around them, no matter how small. the book is better enjoyed with a background in classics, an experience akin to monastic life or a year in seminary, and a thorough understanding of international relations over a period of centuries and millenia, but is still enjoyable as-is without those things. also, has neat math tutorials.')\");\n",
                "\n",
                "conn.execute(\"exercises.dbo.favorite_books (Title,Author,Description) \\\n",
                "      VALUES (3, 'Illium', Dan Simmons, 'Part 1 of 2 of a fun, but also sort of dystopian, yet hopeful, sci-fi yarn that tackles both Bronze Age classical mythology, a speculative future, and friendly robots from Jupiter-space')\");\n",
                "\n",
                "conn.execute(\"exercises.dbo.favorite_books (Title,Author,Description) \\\n",
                "      VALUES (4, 'Olympus', Dan Simmons, 'Part 2 of 2 of a fun, but also sort of dystopian, yet hopeful, sci-fi yarn that tackles both Bronze Age classical mythology, a speculative future, and friendly robots from Jupiter-space ')\");\n",
                "\n",
                "conn.commit()\n",
                "print \"Records created successfully\";\n",
                "conn.close()"
            ],
            "metadata": {
                "azdata_cell_guid": "c7b8e386-f3f4-42ad-aa91-a2da2e7904a5",
                "language": "python"
            },
            "outputs": [],
            "execution_count": 18
        },
        {
            "cell_type": "markdown",
            "source": [
                "## Query Your Table\n",
                "\n",
                "Write a `SELECT` query to output the 3 records in your table."
            ],
            "metadata": {
                "azdata_cell_guid": "b2e48ba7-b418-4418-bb16-598fb82b964c"
            },
            "attachments": {}
        },
        {
            "cell_type": "code",
            "source": [
                "# Write your SELECT query here.\n",
                "cursor = conn.execute(\"SELECT Title, Author, Description, from exercises.dbo.favorite_books\")\n",
                "for row in cursor:\n",
                "   print \"Title = \", row[0]\n",
                "   print \"Author = \", row[1]\n",
                "   print \"Description = \", row[2], \"\\n\"\n",
                "\n",
                "print \"Operation done successfully\";\n",
                "conn.close()"
            ],
            "metadata": {
                "azdata_cell_guid": "c341e7e2-d635-4c26-b744-237c762f7f41",
                "tags": [],
                "language": "python"
            },
            "outputs": [],
            "execution_count": 19
        },
        {
            "cell_type": "markdown",
            "source": [
                "## Create a New Table with Pandas\n",
                "\n",
                "Create a new table called `favorite_movies` with your top 3 favorite movies. Each movie should have an id and a title. This time, use Pandas to first make a dataframe and then write the dataframe to SQL. Write a `SELECT` query to confirm that the new table does have your top 3 favorite movies."
            ],
            "metadata": {
                "azdata_cell_guid": "2127737d-71cd-4f0d-a84e-b1db8ad54af7"
            }
        },
        {
            "cell_type": "code",
            "source": [
                "# Use Pandas to make a new table in your database.\n",
                "\n",
                "#doing it wrong, making it in SQL and then accessing in python:\n",
                "\n",
                "#conn.execute('''CREATE TABLE exercises.dbo.favorite_movies\n",
                "#(ID INT PRIMARY KEY     NOT NULL,\n",
                "#        Title           TEXT    NOT NULL,3\n",
                "#         Year            INT     NOT NULL,\n",
                "#         Director        TEXT);''')\n",
                "#print \"Table created successfully\";\n",
                "\n",
                "#conn.execute(\"INSERT INTO exercises.dbo.favorite_movies (Title,Year,Director) \\\n",
                "#      VALUES (1, 'Lord of the Rings: The Fellowship of the Ring', '2001', 'Peter Jackson')\");\n",
                "\n",
                "#conn.execute(\"INSERT INTO exercises.dbo.favorite_books (Title,Author,Description) \\\n",
                "#      VALUES (2, 'Lord of the Rings: The Two Towers',2002 , 'Peter Jackson')\");\n",
                "\n",
                "#conn.execute(\"exercises.dbo.favorite_books (Title,Author,Description) \\\n",
                "#      VALUES (3, 'Lord of the Rings: The Return of the King', 2003, 'Peter Jackson')\");\n",
                "\n",
                "\n",
                "#conn.commit()\n",
                "#print \"Records created successfully\";\n",
                "#conn.close()\n",
                "\n",
                "favorite_movie = {'first_column':  ['Lord of the Rings: The Fellowship of the Ring', 'Lord of the Rings: The Two Towers', 'Lord of the Rings: The Return of the King'],\n",
                "        'second_column': [2001, 2002, 2003'],\n",
                "         third_column': ['Peter Jackson', 'Peter Jackson', 'Peter Jackson']\n",
                "        }\n",
                "\n",
                "favorite_movies = pd.DataFrame(favorite_movies)\n",
                "\n",
                "print(favorite_movies)\n",
                "\n",
                "favorite_movies = {'Title': ['Lord of the Rings: The Fellowship of the Ring', 'Lord of the Rings: The Two Towers', 'Lord of the Rings: The Return of the King'],\n",
                "        'Year': [2001, 2002, 2003],\n",
                "          'Director': ['Peter Jackson', 'Peter Jackson', 'Peter Jackson']\n",
                "        }\n",
                "\n",
                "favorite_movies = pd.DataFrame(data, index=['movie_1', 'movie_2', 'movie_3'])\n",
                "\n",
                "print(favorite_movies)\n",
                "\n",
                "\n",
                "# my dataframe\n",
                "favorite_movies = pd.DataFrame({\n",
                "    'Title': ['Lord of the Rings: The Fellowship of the Ring', 'Lord of the Rings: The Two Towers', 'Lord of the Rings: The Return of the King'],\n",
                "    'Year': [2001, 2002, 2003],\n",
                "    'Director': ['Peter Jackson', 'Peter Jackson', 'Peter Jackson']\n",
                "})\n",
                "\n",
                "# connect to the SQLite3 database ('exercises.db')\n",
                "conn = sqlite3.connect('exercises.db')\n",
                "\n",
                "# write the dataframe to SQLite3\n",
                "favorite_movies.to_sql('favorite_movies', conn, if_exists='replace', index=False)\n",
                "\n",
                "#close it out\n",
                "conn.close()\n",
                "\n",
                ""
            ],
            "metadata": {
                "azdata_cell_guid": "b4b6dd20-ccc0-42e7-b1e7-79d8596b3f9c",
                "language": "python"
            },
            "outputs": [],
            "execution_count": 20
        }
    ]
}